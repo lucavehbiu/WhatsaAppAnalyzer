{
 "cells": [
  {
   "cell_type": "code",
   "execution_count": 8,
   "metadata": {},
   "outputs": [],
   "source": [
    "import pandas as pd\n",
    "import numpy as np\n",
    "import plotly as pl\n",
    "import regex as re"
   ]
  },
  {
   "cell_type": "code",
   "execution_count": 7,
   "metadata": {},
   "outputs": [
    {
     "name": "stdout",
     "output_type": "stream",
     "text": [
      "Python 3.7.6\r\n"
     ]
    }
   ],
   "source": [
    "!python3 --version"
   ]
  },
  {
   "cell_type": "code",
   "execution_count": null,
   "metadata": {},
   "outputs": [],
   "source": [
    "def read_history(file):\n",
    "    f = open('chat.txt', 'r')\n",
    " \n",
    "    # Every text message has the same format: date - sender: message. \n",
    "    messages = re.findall('(\\d+/\\d+/\\d+, \\d+:\\d+\\d+) - (.*): (.*)', f.read())\n",
    "    f.close()\n",
    "\n",
    "    #Convert list to a dataframe and name the columns\n",
    "    history = pd.DataFrame(messages,columns=['date','name','msg'])\n",
    "    history['date'] = pd.to_datetime(history['date'],format=\"%d/%m/%Y, %H:%M\")\n",
    "    history['day'] = history['date'].apply(lambda x: x.date())\n",
    "\n",
    "    # file is in the format 'WhatsApp Conversation with XXX.txt'\n",
    "    history['time'] =  history['date'].apply(lambda x: x.time())\n",
    "    \n",
    "    return history\n"
   ]
  },
  {
   "cell_type": "code",
   "execution_count": null,
   "metadata": {
    "scrolled": true
   },
   "outputs": [],
   "source": [
    "data = read_history('chat.txt')"
   ]
  },
  {
   "cell_type": "markdown",
   "metadata": {},
   "source": [
    "### Sa shume fjale dhe sa te gjata fjalet per secilin nga ne\n",
    "\n",
    "Goxha barazim por un ta marr Amard!!!"
   ]
  },
  {
   "cell_type": "code",
   "execution_count": null,
   "metadata": {},
   "outputs": [],
   "source": [
    "data['characters'] = data.msg.apply(len)\n",
    "data['words'] = data.msg.apply(lambda x: len(x.split()))\n",
    "\n",
    "data.groupby('name').mean().sort_values('characters').round(2)\n"
   ]
  },
  {
   "cell_type": "code",
   "execution_count": null,
   "metadata": {},
   "outputs": [],
   "source": [
    "#Remove messages that are media\n",
    "data = data[data['msg'] != '<Media omitted>']"
   ]
  },
  {
   "cell_type": "code",
   "execution_count": null,
   "metadata": {},
   "outputs": [],
   "source": [
    "import matplotlib.pyplot as plt\n",
    "data['words'].value_counts().head(20).plot.barh()\n",
    "plt.title('Frekuenca e fjaleve')\n",
    "plt.xlabel('Frekuence')\n",
    "plt.ylabel('Fjalet')"
   ]
  },
  {
   "cell_type": "markdown",
   "metadata": {},
   "source": [
    "### Analize e diteve\n",
    "\n",
    "Me **2018-11-18** paska nodh nami shpirt"
   ]
  },
  {
   "cell_type": "code",
   "execution_count": null,
   "metadata": {},
   "outputs": [],
   "source": [
    "data['day'].value_counts().head(20).plot.barh()\n",
    "plt.title('Frekuenca e diteve')\n",
    "plt.xlabel('Frekuence')\n",
    "plt.ylabel('Ditet')"
   ]
  },
  {
   "cell_type": "markdown",
   "metadata": {},
   "source": [
    "## Oreve te vona behet nami\n",
    "\n",
    "Nga ora 10:30 deri ne 11:30 hap syt lale se fillun pislliqet."
   ]
  },
  {
   "cell_type": "code",
   "execution_count": null,
   "metadata": {
    "scrolled": true
   },
   "outputs": [],
   "source": [
    "data['time'].value_counts().head(20).plot.barh()\n",
    "plt.title('Frekuenca e oreve')\n",
    "plt.xlabel('Frekuence')\n",
    "plt.ylabel('Oret')"
   ]
  },
  {
   "cell_type": "markdown",
   "metadata": {},
   "source": [
    "<img src=\"cloud.png\">"
   ]
  }
 ],
 "metadata": {
  "kernelspec": {
   "display_name": "Python 3",
   "language": "python",
   "name": "python3"
  },
  "language_info": {
   "codemirror_mode": {
    "name": "ipython",
    "version": 3
   },
   "file_extension": ".py",
   "mimetype": "text/x-python",
   "name": "python",
   "nbconvert_exporter": "python",
   "pygments_lexer": "ipython3",
   "version": "3.7.6"
  },
  "varInspector": {
   "cols": {
    "lenName": 16,
    "lenType": 16,
    "lenVar": 40
   },
   "kernels_config": {
    "python": {
     "delete_cmd_postfix": "",
     "delete_cmd_prefix": "del ",
     "library": "var_list.py",
     "varRefreshCmd": "print(var_dic_list())"
    },
    "r": {
     "delete_cmd_postfix": ") ",
     "delete_cmd_prefix": "rm(",
     "library": "var_list.r",
     "varRefreshCmd": "cat(var_dic_list()) "
    }
   },
   "types_to_exclude": [
    "module",
    "function",
    "builtin_function_or_method",
    "instance",
    "_Feature"
   ],
   "window_display": false
  }
 },
 "nbformat": 4,
 "nbformat_minor": 2
}
